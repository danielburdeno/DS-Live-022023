{
 "cells": [
  {
   "cell_type": "markdown",
   "metadata": {},
   "source": [
    "# Recommender Systems"
   ]
  },
  {
   "cell_type": "code",
   "execution_count": 1,
   "metadata": {},
   "outputs": [],
   "source": [
    "from random import gauss as gs, uniform as uni, seed\n",
    "import numpy as np\n",
    "import pandas as pd\n",
    "from sklearn.linear_model import LinearRegression"
   ]
  },
  {
   "cell_type": "markdown",
   "metadata": {},
   "source": [
    "![Netflix](https://miro.medium.com/max/1400/1*jlQxemlP9Yim_rWTqlCFDQ.png)"
   ]
  },
  {
   "cell_type": "markdown",
   "metadata": {},
   "source": [
    "![Amazon](images/amazon_recommender.png)"
   ]
  },
  {
   "cell_type": "markdown",
   "metadata": {},
   "source": [
    "## Agenda"
   ]
  },
  {
   "cell_type": "markdown",
   "metadata": {},
   "source": [
    "- describe the difference between content-based and collaborative-filtering algorithms\n",
    "- explain and use the cosine similarity metric\n",
    "- describe the algorithm of alternating least-squares"
   ]
  },
  {
   "cell_type": "markdown",
   "metadata": {},
   "source": [
    "## Intro"
   ]
  },
  {
   "cell_type": "markdown",
   "metadata": {},
   "source": [
    "Recommender systems can be classified along various lines. One fundamental distinction is **content-based** vs. **collaborative-filtering** systems.\n",
    "\n",
    "To illustrate this, consider two different strategies: (a) I recommend items to you that are *similar to other items* you've used/bought/read/watched; and (b) I recommend items to you that people *similar to you* have used/bought/read/watched. The first is the **content-based strategy**; the second is the **collaborative-filtering strategy**. \n",
    "\n",
    "Another distinction drawn is in whether (a) the system uses existing ratings to compute user-user or item-item similarity, or (b) the system uses machine learning techniques to make predictions. Recommenders of the first sort are called **memory-based**; recommenders of the second sort are called **model-based**."
   ]
  },
  {
   "cell_type": "markdown",
   "metadata": {},
   "source": [
    "### Knowledge Question\n",
    "\n",
    "-What might be a foreseable problem for the both systems?"
   ]
  },
  {
   "cell_type": "markdown",
   "metadata": {},
   "source": [
    "This is the cold start problem - NEW USERS are a problem"
   ]
  },
  {
   "cell_type": "markdown",
   "metadata": {},
   "source": [
    "## Content-Based Systems"
   ]
  },
  {
   "cell_type": "markdown",
   "metadata": {},
   "source": [
    "The basic idea here is to recommend items to a user that are *similar to* items that the user has already enjoyed. Suppose we represent TV shows as rows, where the columns represent various features of these TV shows. These features might be things like the presence of a certain actor or the show fitting into a particular genre etc. We'll just use binary features here, perhaps the result of some one-hot encoding:"
   ]
  },
  {
   "cell_type": "code",
   "execution_count": 2,
   "metadata": {
    "scrolled": true
   },
   "outputs": [
    {
     "data": {
      "text/plain": [
       "array([[0, 1, 1, 0, 1, 1, 1],\n",
       "       [0, 0, 0, 1, 1, 1, 0],\n",
       "       [1, 1, 1, 0, 0, 1, 1],\n",
       "       [0, 1, 1, 1, 0, 0, 1]])"
      ]
     },
     "execution_count": 2,
     "metadata": {},
     "output_type": "execute_result"
    }
   ],
   "source": [
    "tv_shows = np.array([[0, 1, 1, 0, 1, 1, 1],\n",
    "                   [0, 0, 0, 1, 1, 1, 0],\n",
    "                   [1, 1, 1, 0, 0, 1, 1],\n",
    "                   [0, 1, 1, 1, 0, 0, 1]])\n",
    "\n",
    "tv_shows"
   ]
  },
  {
   "cell_type": "markdown",
   "metadata": {},
   "source": [
    "Bob likes the TV Show represented by Row \\#1. Which show (row) should we recommend to Bob?\n",
    "\n",
    "One natural way of measuring the similarity between two vectors is by the **cosine of the angle between them**. Two points near one another in feature space will correspond to vectors that nearly overlap, i.e. vectors that describe a small angle $\\theta$. And as $\\theta$ decreases, $\\cos(\\theta)$ *increases*. So we'll be looking for large values of the cosine (which ranges between -1 and 1). We can also think of the cosine between two vectors as the *projection of one vector onto the other*:\n",
    "\n",
    "![image.png](https://www.oreilly.com/api/v2/epubs/9781788295758/files/assets/2b4a7a82-ad4c-4b2a-b808-e423a334de6f.png)\n",
    "\n",
    "We can use this metric easily if we treat our rows (the items we're comparing for similarity) as vectors: We can calculate the cosine of the angle $\\theta$ between two vectors $\\vec{a}$ and $\\vec{b}$ as follows: $\\cos(\\theta) = \\frac{\\vec{a}\\cdot\\vec{b}}{|\\vec{a}||\\vec{b}|}$"
   ]
  },
  {
   "cell_type": "code",
   "execution_count": 3,
   "metadata": {},
   "outputs": [
    {
     "data": {
      "text/plain": [
       "array([0.51639778, 0.8       , 0.67082039])"
      ]
     },
     "execution_count": 3,
     "metadata": {},
     "output_type": "execute_result"
    }
   ],
   "source": [
    "numerators = np.array([tv_shows[0].dot(tv_show) for tv_show in tv_shows[1:]])\n",
    "denominators = np.array([np.sqrt(sum(tv_shows[0]**2)) *\\\n",
    "                         np.sqrt(sum(tv_show**2)) for tv_show in tv_shows[1:]])\n",
    "\n",
    "numerators / denominators"
   ]
  },
  {
   "cell_type": "code",
   "execution_count": 4,
   "metadata": {},
   "outputs": [
    {
     "data": {
      "text/plain": [
       "array([[ 1.        , -0.09128709,  0.3       ,  0.09128709],\n",
       "       [-0.09128709,  1.        , -0.73029674, -0.41666667],\n",
       "       [ 0.3       , -0.73029674,  1.        ,  0.09128709],\n",
       "       [ 0.09128709, -0.41666667,  0.09128709,  1.        ]])"
      ]
     },
     "execution_count": 4,
     "metadata": {},
     "output_type": "execute_result"
    }
   ],
   "source": [
    "np.corrcoef(tv_shows)"
   ]
  },
  {
   "cell_type": "markdown",
   "metadata": {},
   "source": [
    "Since the cosine similarity to Row \\#1 is highest for Row \\#3, we would recommend this TV show."
   ]
  },
  {
   "cell_type": "markdown",
   "metadata": {},
   "source": [
    "***"
   ]
  },
  {
   "cell_type": "markdown",
   "metadata": {},
   "source": [
    "## Collaborative Filtering\n",
    "\n",
    "Now the idea is to recommend items to a user based on what *similar* users have enjoyed. Suppose we have the following recording of explicit ratings of five items by three users:"
   ]
  },
  {
   "cell_type": "code",
   "execution_count": 5,
   "metadata": {},
   "outputs": [
    {
     "data": {
      "text/plain": [
       "array([[5, 4, 3, 4, 5],\n",
       "       [3, 1, 1, 2, 5],\n",
       "       [4, 2, 3, 1, 4]])"
      ]
     },
     "execution_count": 5,
     "metadata": {},
     "output_type": "execute_result"
    }
   ],
   "source": [
    "users = np.array([[5, 4, 3, 4, 5], [3, 1, 1, 2, 5], [4, 2, 3, 1, 4]])\n",
    "\n",
    "new_user = np.array([5, 0, 0, 0, 0])\n",
    "users"
   ]
  },
  {
   "cell_type": "markdown",
   "metadata": {},
   "source": [
    "To which user is `new_user` most similar?\n",
    "\n",
    "One metric is cosine similarity:"
   ]
  },
  {
   "cell_type": "code",
   "execution_count": 6,
   "metadata": {},
   "outputs": [
    {
     "data": {
      "text/plain": [
       "array([0.52414242, 0.47434165, 0.58976782])"
      ]
     },
     "execution_count": 6,
     "metadata": {},
     "output_type": "execute_result"
    }
   ],
   "source": [
    "new_user_mag = 5\n",
    "\n",
    "numerators = np.array([new_user.dot(user) for user in users])\n",
    "denominators = np.array([new_user_mag * np.sqrt(sum(user**2))\\\n",
    "                         for user in users])\n",
    "\n",
    "numerators / denominators"
   ]
  },
  {
   "cell_type": "markdown",
   "metadata": {},
   "source": [
    "But we could also use another metric, such as Pearson Correlation:"
   ]
  },
  {
   "cell_type": "code",
   "execution_count": 7,
   "metadata": {},
   "outputs": [
    {
     "data": {
      "text/plain": [
       "[0.5345224838248488, 0.20044593143431824, 0.5144957554275266]"
      ]
     },
     "execution_count": 7,
     "metadata": {},
     "output_type": "execute_result"
    }
   ],
   "source": [
    "[np.corrcoef(new_user, user)[0, 1] for user in users]"
   ]
  },
  {
   "cell_type": "markdown",
   "metadata": {},
   "source": [
    "For more on content-based vs. collaborative systems, see [this Wikipedia article](https://en.wikipedia.org/wiki/Collaborative_filtering) and [this blog post](https://towardsdatascience.com/recommendation-systems-models-and-evaluation-84944a84fb8e). [This post](https://dataconomy.com/2015/03/an-introduction-to-recommendation-engines/) on dataconomy is also useful."
   ]
  },
  {
   "cell_type": "markdown",
   "metadata": {},
   "source": [
    "***"
   ]
  },
  {
   "cell_type": "markdown",
   "metadata": {},
   "source": [
    "## Matrix Factorization\n",
    "\n",
    "Suppose we start with a matrix $R$ of users and products, where each cell records the ranking the relevant user gave to the relevant product. Very often we'll be able to record this data as a sparse matrix, because many users will not have ranked many items.\n",
    "\n",
    "Imagine factoring this matrix into a user matrix $P$ and an item matrix $Q^T$: $R = PQ^T$. What would the shapes of $P$ and $Q^T$ be? Clearly $P$ must have as many rows as $R$, which is just the number of users who have given ratings. Similarly, $Q^T$ must have as many columns as $R$, which is just the number of items that have received ratings. We also know that the number of columns of $P$ must match the number of rows of $Q^T$ for the factorization to be possible, but this number could really be anything. In practice this will be a small number, and for reasons that will emerge shortly let's refer to these dimensions as **latent features** of the items in $R$. If $p$ is a row of $P$, i.e. a user-vector, and $q$ is a column of $Q^T$, i.e. an item-vector, then $p$ will record the user's particular weights or *preferences* with respect to the latent features, while $q$ will record how the item ranks with respect to those same latent features. This in turn means that we could predict a user's ranking of a particular item simply by calculating the dot-product of $p$ and $q$! \n",
    "\n",
    "If we could effect such a factorization, $R = PQ^T$, then we could calculate *all* predictions, i.e. fill in the gaps in $R$, by solving for $P$ and $Q$.\n",
    "\n",
    "The isolation of these latent features can be achieved in various ways. But this is at heart a matter of **dimensionality reduction**, and so one way is with the [SVD](https://hackernoon.com/introduction-to-recommender-system-part-1-collaborative-filtering-singular-value-decomposition-44c9659c5e75).\n",
    "\n",
    "An alternative is to use the method of Alternating Least Squares."
   ]
  },
  {
   "cell_type": "markdown",
   "metadata": {},
   "source": [
    "### Alternating Least-Squares (ALS)\n",
    "\n",
    "ALS recommendation systems are often implemented in Spark architectures because of the appropriateness for distributed computing. ALS systems often involve very large datasets (consider how much data the recommendation engine for NETFLIX must have, for example!), and it is often useful to store them as sparse matrices, which Spark's ML library can handle. In fact, Spark's mllib even includes a \"Rating\" datatype! ALS is **collaborative** and **model-based**, and is especially useful for working with *implicit* ratings.\n",
    "\n",
    "We're looking for two matrices (a user matrix and an item matrix) into which we can factor our ratings matrix. We can't of course solve for two matrices at once. But here's what we can do:\n",
    "\n",
    "Make guesses of the values for $P$ and $Q$. Then hold the values of one *constant* so that we can optimize for the values of the other!\n",
    "\n",
    "Basically this converts our problem into a familiar *least-squares* problem. See [this page](https://textbooks.math.gatech.edu/ila/least-squares.html) and [this page](https://datasciencemadesimpler.wordpress.com/tag/alternating-least-squares/) for more details, but here's the basic idea:"
   ]
  },
  {
   "cell_type": "markdown",
   "metadata": {},
   "source": [
    "If we have an equation $Ax = b$ for *non-square* $A$, then we have:\n",
    "\n",
    "$A^TAx = A^Tb$ <br/>\n",
    "Thus: <br/>\n",
    "$x = (A^TA)^{-1}A^Tb$\n",
    "\n",
    "This $(A^TA)^{-1}A^T$ **is the pseudo-inverse of** $A$. We encountered this before in our whirlwind tour of linear algebra."
   ]
  },
  {
   "cell_type": "code",
   "execution_count": 8,
   "metadata": {},
   "outputs": [],
   "source": [
    "np.random.seed(42)\n",
    "\n",
    "A = np.random.rand(5, 5)\n",
    "b = np.random.rand(5, 1)"
   ]
  },
  {
   "cell_type": "code",
   "execution_count": 9,
   "metadata": {},
   "outputs": [
    {
     "data": {
      "text/plain": [
       "(array([[0.37454012, 0.95071431, 0.73199394, 0.59865848, 0.15601864],\n",
       "        [0.15599452, 0.05808361, 0.86617615, 0.60111501, 0.70807258],\n",
       "        [0.02058449, 0.96990985, 0.83244264, 0.21233911, 0.18182497],\n",
       "        [0.18340451, 0.30424224, 0.52475643, 0.43194502, 0.29122914],\n",
       "        [0.61185289, 0.13949386, 0.29214465, 0.36636184, 0.45606998]]),\n",
       " array([[0.78517596],\n",
       "        [0.19967378],\n",
       "        [0.51423444],\n",
       "        [0.59241457],\n",
       "        [0.04645041]]))"
      ]
     },
     "execution_count": 9,
     "metadata": {},
     "output_type": "execute_result"
    }
   ],
   "source": [
    "A, b"
   ]
  },
  {
   "cell_type": "code",
   "execution_count": 10,
   "metadata": {},
   "outputs": [
    {
     "data": {
      "text/plain": [
       "array([[-226.17808974],\n",
       "       [ 218.48756728],\n",
       "       [-362.56506519],\n",
       "       [ 147.90541489],\n",
       "       [ 350.1459068 ]])"
      ]
     },
     "execution_count": 10,
     "metadata": {},
     "output_type": "execute_result"
    }
   ],
   "source": [
    "np.linalg.inv(A.T.dot(A)).dot(A.T).dot(b)"
   ]
  },
  {
   "cell_type": "markdown",
   "metadata": {},
   "source": [
    "The `numpy` library has a shortcut for this: `numpy.linalg.pinv()`:"
   ]
  },
  {
   "cell_type": "code",
   "execution_count": 11,
   "metadata": {},
   "outputs": [
    {
     "data": {
      "text/plain": [
       "array([[-226.17808981],\n",
       "       [ 218.48756735],\n",
       "       [-362.56506531],\n",
       "       [ 147.90541493],\n",
       "       [ 350.14590691]])"
      ]
     },
     "execution_count": 11,
     "metadata": {},
     "output_type": "execute_result"
    }
   ],
   "source": [
    "np.linalg.pinv(A).dot(b)"
   ]
  },
  {
   "cell_type": "markdown",
   "metadata": {},
   "source": [
    "\"When we talk about collaborative filtering for recommender systems we want to solve the problem of our original matrix having millions of different dimensions, but our 'tastes' not being nearly as complex. Even if i’ve \\[sic\\] viewed hundreds of items they might just express a couple of different tastes. Here we can actually use matrix factorization to mathematically reduce the dimensionality of our original 'all users by all items' matrix into something much smaller that represents 'all items by some taste dimensions' and 'all users by some taste dimensions'. These dimensions are called ***latent or hidden features*** and we learn them from our data\" ([Medium article: \"ALS Implicit Collaborative Filtering\"](https://medium.com/radon-dev/als-implicit-collaborative-filtering-5ed653ba39fe))."
   ]
  },
  {
   "cell_type": "markdown",
   "metadata": {},
   "source": [
    "#### Simple Example\n",
    "\n",
    "Suppose Max and Erin have rated five films:"
   ]
  },
  {
   "cell_type": "code",
   "execution_count": 12,
   "metadata": {},
   "outputs": [
    {
     "data": {
      "text/html": [
       "<div>\n",
       "<style scoped>\n",
       "    .dataframe tbody tr th:only-of-type {\n",
       "        vertical-align: middle;\n",
       "    }\n",
       "\n",
       "    .dataframe tbody tr th {\n",
       "        vertical-align: top;\n",
       "    }\n",
       "\n",
       "    .dataframe thead th {\n",
       "        text-align: right;\n",
       "    }\n",
       "</style>\n",
       "<table border=\"1\" class=\"dataframe\">\n",
       "  <thead>\n",
       "    <tr style=\"text-align: right;\">\n",
       "      <th></th>\n",
       "      <th>film1</th>\n",
       "      <th>film2</th>\n",
       "      <th>film3</th>\n",
       "      <th>film4</th>\n",
       "      <th>film5</th>\n",
       "    </tr>\n",
       "  </thead>\n",
       "  <tbody>\n",
       "    <tr>\n",
       "      <th>max</th>\n",
       "      <td>0</td>\n",
       "      <td>1</td>\n",
       "      <td>0</td>\n",
       "      <td>0</td>\n",
       "      <td>4</td>\n",
       "    </tr>\n",
       "    <tr>\n",
       "      <th>erin</th>\n",
       "      <td>0</td>\n",
       "      <td>0</td>\n",
       "      <td>0</td>\n",
       "      <td>5</td>\n",
       "      <td>0</td>\n",
       "    </tr>\n",
       "  </tbody>\n",
       "</table>\n",
       "</div>"
      ],
      "text/plain": [
       "      film1  film2  film3  film4  film5\n",
       "max       0      1      0      0      4\n",
       "erin      0      0      0      5      0"
      ]
     },
     "execution_count": 12,
     "metadata": {},
     "output_type": "execute_result"
    }
   ],
   "source": [
    "ratings_arr = pd.DataFrame([[0, 1, 0, 0, 4], [0, 0, 0, 5, 0]],\\\n",
    "                           index=['max', 'erin'],\n",
    "             columns=['film' + str(i) for i in range(1, 6)])\n",
    "ratings_arr"
   ]
  },
  {
   "cell_type": "markdown",
   "metadata": {},
   "source": [
    "Suppose now that we isolate ten latent features of these films, and that we can capture our users, i.e. the tastes of Max and Erin, according to these features. (We'll just fill out a matrix randomly.)"
   ]
  },
  {
   "cell_type": "code",
   "execution_count": 13,
   "metadata": {},
   "outputs": [],
   "source": [
    "seed(100)\n",
    "users = []\n",
    "\n",
    "for _ in range(2):\n",
    "    user = []\n",
    "    for _ in range(10):\n",
    "        user.append(gs(0, 1))\n",
    "    users.append(user)\n",
    "users_arr = np.array(users)"
   ]
  },
  {
   "cell_type": "code",
   "execution_count": 14,
   "metadata": {},
   "outputs": [
    {
     "data": {
      "text/plain": [
       "array([[ 0.67155333,  0.87331967,  0.20361655, -1.55034921, -0.12059128,\n",
       "        -1.05927574,  0.38143697, -1.17342904,  0.96637182,  0.53248343],\n",
       "       [ 2.22041991,  0.68901284,  0.85436449, -0.29504752, -0.62335055,\n",
       "         1.5917369 ,  0.17920475,  0.60086339,  0.3474319 ,  0.85537186]])"
      ]
     },
     "execution_count": 14,
     "metadata": {},
     "output_type": "execute_result"
    }
   ],
   "source": [
    "users_arr"
   ]
  },
  {
   "cell_type": "markdown",
   "metadata": {},
   "source": [
    "Now we'll make another random matrix that expresses *our items* in terms of these latent features."
   ]
  },
  {
   "cell_type": "code",
   "execution_count": 15,
   "metadata": {},
   "outputs": [],
   "source": [
    "seed(100)\n",
    "items = []\n",
    "\n",
    "for _ in range(5):\n",
    "    item = []\n",
    "    for _ in range(10):\n",
    "        item.append(gs(0, 1))\n",
    "    items.append(item)\n",
    "items_arr = np.array(items)"
   ]
  },
  {
   "cell_type": "code",
   "execution_count": 16,
   "metadata": {},
   "outputs": [
    {
     "data": {
      "text/plain": [
       "array([[ 0.67155333,  0.87331967,  0.20361655, -1.55034921, -0.12059128,\n",
       "        -1.05927574,  0.38143697, -1.17342904,  0.96637182,  0.53248343],\n",
       "       [ 2.22041991,  0.68901284,  0.85436449, -0.29504752, -0.62335055,\n",
       "         1.5917369 ,  0.17920475,  0.60086339,  0.3474319 ,  0.85537186],\n",
       "       [-1.80291827, -1.83311295,  0.60911087,  2.4250145 , -2.02233576,\n",
       "        -0.73382756,  0.24510831, -0.53817586, -0.30637608, -0.41367264],\n",
       "       [ 1.0027436 ,  0.03558136,  0.19013362, -1.27827915,  0.67648704,\n",
       "         1.79506722,  0.63054322, -0.37947302, -1.35033057,  0.45576721],\n",
       "       [ 0.42542416, -0.29962041, -2.48035968, -0.87457154, -1.23050164,\n",
       "        -1.00629648,  0.1857537 , -1.174924  , -0.33108494,  1.29437514]])"
      ]
     },
     "execution_count": 16,
     "metadata": {},
     "output_type": "execute_result"
    }
   ],
   "source": [
    "items_arr"
   ]
  },
  {
   "cell_type": "code",
   "execution_count": 17,
   "metadata": {},
   "outputs": [
    {
     "data": {
      "text/plain": [
       "(2, 10)"
      ]
     },
     "execution_count": 17,
     "metadata": {},
     "output_type": "execute_result"
    }
   ],
   "source": [
    "users_arr.shape"
   ]
  },
  {
   "cell_type": "code",
   "execution_count": 18,
   "metadata": {},
   "outputs": [
    {
     "data": {
      "text/plain": [
       "(5, 10)"
      ]
     },
     "execution_count": 18,
     "metadata": {},
     "output_type": "execute_result"
    }
   ],
   "source": [
    "items_arr.shape"
   ]
  },
  {
   "cell_type": "markdown",
   "metadata": {},
   "source": [
    "To construct our large users-by-items matrix, we'll simply take the product of our two random matrices."
   ]
  },
  {
   "cell_type": "code",
   "execution_count": 19,
   "metadata": {},
   "outputs": [
    {
     "data": {
      "text/plain": [
       "array([[ 7.53516384,  1.26783511, -5.21738432,  0.36547776,  3.90803828],\n",
       "       [ 1.26783511, 10.38970834, -6.10853643,  5.03189793, -1.63817674]])"
      ]
     },
     "execution_count": 19,
     "metadata": {},
     "output_type": "execute_result"
    }
   ],
   "source": [
    "users_arr.dot(items_arr.T)"
   ]
  },
  {
   "cell_type": "markdown",
   "metadata": {},
   "source": [
    "Now here's where the ALS really kicks in: We'll solve for Max's and Erin's preference vectors by multiplying the pseudo-inverse of the items array by their respective ratings vectors:"
   ]
  },
  {
   "cell_type": "code",
   "execution_count": 22,
   "metadata": {},
   "outputs": [
    {
     "name": "stdout",
     "output_type": "stream",
     "text": [
      "[ 0.47099573 -0.11214938 -0.98527859  0.09266666 -0.64747458  0.00854642\n",
      " -0.11601818  0.09586291 -0.08579953  0.55693307]\n",
      "[-0.23238655 -0.55138144  0.5415508  -0.71191248  0.27767197  0.81157767\n",
      "  0.78557579 -1.03623954 -1.25490079  0.02606555]\n"
     ]
    }
   ],
   "source": [
    "max_pref = np.linalg.pinv(items_arr).dot(ratings_arr.loc['max', :])\n",
    "print(max_pref)\n",
    "erin_pref = np.linalg.pinv(items_arr).dot(ratings_arr.loc['erin', :])\n",
    "print(erin_pref)"
   ]
  },
  {
   "cell_type": "code",
   "execution_count": 21,
   "metadata": {},
   "outputs": [
    {
     "data": {
      "text/plain": [
       "(10, 5)"
      ]
     },
     "execution_count": 21,
     "metadata": {},
     "output_type": "execute_result"
    }
   ],
   "source": [
    "items_arr.T.shape"
   ]
  },
  {
   "cell_type": "markdown",
   "metadata": {},
   "source": [
    "We'll predict (or, in this case, reproduce) Max's and Erin's ratings for films by simply multiplying their preference vectors by the transpose of the items array:"
   ]
  },
  {
   "cell_type": "code",
   "execution_count": 23,
   "metadata": {
    "scrolled": true
   },
   "outputs": [
    {
     "data": {
      "text/plain": [
       "array([-7.91033905e-16,  1.00000000e+00,  0.00000000e+00,  2.02615702e-15,\n",
       "        4.00000000e+00])"
      ]
     },
     "execution_count": 23,
     "metadata": {},
     "output_type": "execute_result"
    }
   ],
   "source": [
    "newmax = max_pref.dot(items_arr.T)\n",
    "newmax"
   ]
  },
  {
   "cell_type": "code",
   "execution_count": 24,
   "metadata": {},
   "outputs": [
    {
     "data": {
      "text/html": [
       "<div>\n",
       "<style scoped>\n",
       "    .dataframe tbody tr th:only-of-type {\n",
       "        vertical-align: middle;\n",
       "    }\n",
       "\n",
       "    .dataframe tbody tr th {\n",
       "        vertical-align: top;\n",
       "    }\n",
       "\n",
       "    .dataframe thead th {\n",
       "        text-align: right;\n",
       "    }\n",
       "</style>\n",
       "<table border=\"1\" class=\"dataframe\">\n",
       "  <thead>\n",
       "    <tr style=\"text-align: right;\">\n",
       "      <th></th>\n",
       "      <th>film1</th>\n",
       "      <th>film2</th>\n",
       "      <th>film3</th>\n",
       "      <th>film4</th>\n",
       "      <th>film5</th>\n",
       "    </tr>\n",
       "  </thead>\n",
       "  <tbody>\n",
       "    <tr>\n",
       "      <th>max</th>\n",
       "      <td>0</td>\n",
       "      <td>1</td>\n",
       "      <td>0</td>\n",
       "      <td>0</td>\n",
       "      <td>4</td>\n",
       "    </tr>\n",
       "    <tr>\n",
       "      <th>erin</th>\n",
       "      <td>0</td>\n",
       "      <td>0</td>\n",
       "      <td>0</td>\n",
       "      <td>5</td>\n",
       "      <td>0</td>\n",
       "    </tr>\n",
       "  </tbody>\n",
       "</table>\n",
       "</div>"
      ],
      "text/plain": [
       "      film1  film2  film3  film4  film5\n",
       "max       0      1      0      0      4\n",
       "erin      0      0      0      5      0"
      ]
     },
     "execution_count": 24,
     "metadata": {},
     "output_type": "execute_result"
    }
   ],
   "source": [
    "ratings_arr"
   ]
  },
  {
   "cell_type": "markdown",
   "metadata": {},
   "source": [
    "This lines up with the ratings with which we began."
   ]
  },
  {
   "cell_type": "code",
   "execution_count": 25,
   "metadata": {},
   "outputs": [
    {
     "data": {
      "text/plain": [
       "array([ 4.44089210e-16,  2.44249065e-15,  3.33066907e-16,  5.00000000e+00,\n",
       "       -1.55431223e-15])"
      ]
     },
     "execution_count": 25,
     "metadata": {},
     "output_type": "execute_result"
    }
   ],
   "source": [
    "newerin = erin_pref.dot(items_arr.T)\n",
    "newerin"
   ]
  },
  {
   "cell_type": "markdown",
   "metadata": {},
   "source": [
    "Ditto!"
   ]
  },
  {
   "cell_type": "markdown",
   "metadata": {},
   "source": [
    "We'll make a quick error calculation:"
   ]
  },
  {
   "cell_type": "code",
   "execution_count": 26,
   "metadata": {},
   "outputs": [
    {
     "name": "stdout",
     "output_type": "stream",
     "text": [
      "3.318146182585881e-29\n"
     ]
    }
   ],
   "source": [
    "guess = np.vstack([newmax, newerin])\n",
    "\n",
    "err = 0\n",
    "for i in range(2):\n",
    "    for j in range(len(ratings_arr.values[i, :])):\n",
    "        if ratings_arr.values[i, j] != 0:\n",
    "            err += (ratings_arr.values[i, j] - guess[i, j])**2\n",
    "print(err)"
   ]
  },
  {
   "cell_type": "markdown",
   "metadata": {},
   "source": [
    "#### Second Example"
   ]
  },
  {
   "cell_type": "code",
   "execution_count": null,
   "metadata": {},
   "outputs": [],
   "source": [
    "# Users: m x n (m users)\n",
    "# Items: r x n (r items)\n",
    "# Ratings: m x r"
   ]
  },
  {
   "cell_type": "code",
   "execution_count": 27,
   "metadata": {},
   "outputs": [],
   "source": [
    "# If P = users and Q = items, then we want to approximate R = PQ^T\n",
    "# Let's generate R.\n",
    "\n",
    "seed(42)\n",
    "ratings2 = []\n",
    "for _ in range(100):\n",
    "    user = []\n",
    "    for _ in range(100):\n",
    "        chance = gs(0, 0.4)\n",
    "        \n",
    "        # We'll fill our ratings matrix mostly with 0's to represent\n",
    "        # unrated films. This is NOT standard; we're doing this only\n",
    "        # to illustrate the general algorithm.\n",
    "        if chance > 0.5:\n",
    "            user.append(int(uni(1, 6)))\n",
    "        else:\n",
    "            user.append(0)\n",
    "        \n",
    "        # This 'if' will simply ensure that everyone has given at least\n",
    "        # one rating.\n",
    "        if user.count(0) == 10:\n",
    "            user[int(uni(0, 10))] = int(uni(1, 6))\n",
    "    ratings2.append(user)\n",
    "ratings_arr2 = np.array(ratings2)"
   ]
  },
  {
   "cell_type": "code",
   "execution_count": 32,
   "metadata": {},
   "outputs": [
    {
     "data": {
      "text/plain": [
       "array([[0, 0, 0, ..., 0, 2, 0],\n",
       "       [3, 0, 2, ..., 0, 0, 0],\n",
       "       [5, 3, 0, ..., 0, 0, 0],\n",
       "       ...,\n",
       "       [0, 0, 0, ..., 5, 0, 2],\n",
       "       [0, 2, 5, ..., 0, 0, 0],\n",
       "       [2, 2, 0, ..., 5, 0, 5]])"
      ]
     },
     "execution_count": 32,
     "metadata": {},
     "output_type": "execute_result"
    }
   ],
   "source": [
    "ratings_arr2"
   ]
  },
  {
   "cell_type": "code",
   "execution_count": 28,
   "metadata": {},
   "outputs": [],
   "source": [
    "users2 = []\n",
    "\n",
    "# Random generation of values for the user matrix\n",
    "for _ in range(100):\n",
    "    user = []\n",
    "    for _ in range(10):\n",
    "        user.append(gs(0, 1))\n",
    "    users2.append(user)\n",
    "users_arr2 = np.array(users2)"
   ]
  },
  {
   "cell_type": "code",
   "execution_count": 29,
   "metadata": {},
   "outputs": [],
   "source": [
    "items2 = []\n",
    "\n",
    "# Random generation of values for the item matrix\n",
    "for _ in range(100):\n",
    "    item = []\n",
    "    for _ in range(10):\n",
    "        item.append(gs(0, 1))\n",
    "    items2.append(item)\n",
    "items_arr2 = np.array(items2)"
   ]
  },
  {
   "cell_type": "markdown",
   "metadata": {},
   "source": [
    "Our first guess at filling in the matrix will simply be the matrix product:"
   ]
  },
  {
   "cell_type": "code",
   "execution_count": 33,
   "metadata": {},
   "outputs": [],
   "source": [
    "guess = users_arr2.dot(items_arr2.T)"
   ]
  },
  {
   "cell_type": "code",
   "execution_count": 34,
   "metadata": {},
   "outputs": [
    {
     "data": {
      "text/plain": [
       "True"
      ]
     },
     "execution_count": 34,
     "metadata": {},
     "output_type": "execute_result"
    }
   ],
   "source": [
    "guess.shape == ratings_arr2.shape"
   ]
  },
  {
   "cell_type": "markdown",
   "metadata": {},
   "source": [
    "Let's get a measure of error:"
   ]
  },
  {
   "cell_type": "code",
   "execution_count": 35,
   "metadata": {},
   "outputs": [
    {
     "data": {
      "text/plain": [
       "array([[ 1.20022042, -4.79370844,  0.16745819, ...,  0.71515764,\n",
       "         5.29265957,  2.34612024],\n",
       "       [12.81954999,  1.09244517,  2.76883236, ...,  3.84048632,\n",
       "         3.63986143,  1.251285  ],\n",
       "       [-0.11924386,  0.1143655 , -0.52294795, ...,  3.37782545,\n",
       "        -2.46092459,  0.03240239],\n",
       "       ...,\n",
       "       [ 1.78409526, -0.16181232,  1.29355933, ...,  6.03771907,\n",
       "         1.97382977,  4.89026489],\n",
       "       [-1.85314949,  4.16815931,  3.84911175, ..., -0.0342376 ,\n",
       "        -5.73579374, -1.53629352],\n",
       "       [ 2.51939362,  5.31266136, -1.7857387 , ...,  5.18275941,\n",
       "        -2.55671716,  4.90783561]])"
      ]
     },
     "execution_count": 35,
     "metadata": {},
     "output_type": "execute_result"
    }
   ],
   "source": [
    "ratings_arr2 - guess"
   ]
  },
  {
   "cell_type": "code",
   "execution_count": 36,
   "metadata": {},
   "outputs": [
    {
     "data": {
      "text/plain": [
       "122333.98763617325"
      ]
     },
     "execution_count": 36,
     "metadata": {},
     "output_type": "execute_result"
    }
   ],
   "source": [
    "err = (ratings_arr2 - guess)**2\n",
    "\n",
    "np.sum(err)"
   ]
  },
  {
   "cell_type": "markdown",
   "metadata": {},
   "source": [
    "Pretty terrible! But we started with random numbers and have only done one iteration. Let's see if we can do better:"
   ]
  },
  {
   "cell_type": "code",
   "execution_count": 37,
   "metadata": {},
   "outputs": [],
   "source": [
    "def als(ratings, users, items, reps=10):\n",
    "    \n",
    "    ratings_cols = ratings.T\n",
    "    for _ in range(reps):\n",
    "        new_users = []\n",
    "        for i in range(len(ratings)):\n",
    "            \n",
    "            user = LinearRegression(fit_intercept=False)\\\n",
    "            .fit(items, ratings[i]).coef_\n",
    "            new_users.append(user)\n",
    "        new_users = np.asarray(new_users)\n",
    "        \n",
    "        new_items = []\n",
    "        for i in range(len(ratings)):\n",
    "            \n",
    "            item = LinearRegression(fit_intercept=False)\\\n",
    "            .fit(new_users, ratings_cols[i]).coef_\n",
    "            new_items.append(item)\n",
    "        new_items = np.asarray(new_items)\n",
    "        \n",
    "        guess = new_users.dot(new_items.T)\n",
    "        err = 0\n",
    "        for i in range(len(ratings)):\n",
    "            for j in range(len(ratings[i])):\n",
    "                if ratings[i, j] != 0:\n",
    "                    err += (ratings[i, j] - guess[i, j])**2\n",
    "        print(err)\n",
    "        \n",
    "        items = new_items\n",
    "        \n",
    "    return new_users.dot(new_items.T)"
   ]
  },
  {
   "cell_type": "markdown",
   "metadata": {},
   "source": [
    "We should see our error decrease with more iterations:"
   ]
  },
  {
   "cell_type": "code",
   "execution_count": 39,
   "metadata": {},
   "outputs": [
    {
     "name": "stdout",
     "output_type": "stream",
     "text": [
      "8679.959268046978\n",
      "6511.270608291892\n",
      "6272.528821101911\n",
      "6190.959718973224\n",
      "6153.148460896027\n",
      "6133.158269096345\n",
      "6121.902204676269\n",
      "6115.079057339576\n",
      "6110.53807458497\n",
      "6107.25526650842\n",
      "6104.734553278032\n",
      "6102.714083690586\n",
      "6101.043135121947\n",
      "6099.629733317877\n",
      "6098.4153980187575\n",
      "6097.361480021129\n",
      "6096.441351671074\n",
      "6095.635877355333\n",
      "6094.930768740715\n",
      "6094.314999501616\n",
      "6093.77979093405\n",
      "6093.317895217616\n",
      "6092.923040928008\n",
      "6092.589488705116\n",
      "6092.311688714318\n",
      "6092.084047267304\n",
      "6091.900807755377\n",
      "6091.756039829785\n",
      "6091.643717872174\n",
      "6091.55786028533\n",
      "6091.492697436179\n",
      "6091.442838288918\n",
      "6091.403412339846\n",
      "6091.370172185086\n",
      "6091.339550794579\n",
      "6091.308674820064\n",
      "6091.275340271621\n",
      "6091.23795957393\n",
      "6091.195489713938\n",
      "6091.147350485181\n",
      "6091.093340304618\n",
      "6091.033555219434\n",
      "6090.968314883924\n",
      "6090.898097683235\n",
      "6090.823485905555\n",
      "6090.74512093579\n",
      "6090.663667825518\n",
      "6090.579788234867\n",
      "6090.494120574916\n",
      "6090.40726615071\n"
     ]
    },
    {
     "data": {
      "text/plain": [
       "array([[ 4.37296226e-01,  1.05405627e+00, -4.29112693e-01,\n",
       "        -9.32234290e-01,  3.69916778e-01,  3.61255823e+00,\n",
       "         5.82751560e-01,  3.11713662e-01,  3.26001648e-01,\n",
       "         3.37302531e-01,  3.67130399e-01,  2.66571074e-01,\n",
       "         4.18934586e-01,  1.29053700e+00,  9.61125745e-01,\n",
       "         4.87873589e-01,  1.76350753e-01, -4.88176807e-01,\n",
       "         2.43715679e-02,  1.33273061e-02,  7.79580615e-03,\n",
       "        -6.43181588e-01,  1.12888649e+00,  6.77466214e-01,\n",
       "         2.22740964e-01, -6.15280675e-01,  5.53243327e-01,\n",
       "         6.33279343e-01,  2.61198032e-01,  5.99790711e-01,\n",
       "         1.08417185e+00,  9.44703070e-03,  2.23834352e-01,\n",
       "         4.13172351e-02,  6.94910457e-01,  2.58408264e-01,\n",
       "         2.14749496e-01,  7.08017029e-01,  4.80518820e-01,\n",
       "         3.65370511e-01, -5.33485330e-02, -2.47162211e-01,\n",
       "         2.44071009e-01,  3.45486861e-01, -2.52782092e-01,\n",
       "         7.99662654e-01, -6.29101156e-01,  8.52053186e-01,\n",
       "        -4.05063158e-01, -1.25099778e-01,  6.71801378e-01,\n",
       "         7.77294857e-01,  8.50222493e-02,  1.17785181e+00,\n",
       "         3.30755585e-01,  5.44702975e-01,  5.55978397e-01,\n",
       "         5.77126791e-01, -2.13881250e-01,  7.44895919e-03,\n",
       "         3.15855442e-01,  2.07897710e-01, -2.86468153e-01,\n",
       "         1.64722356e+00, -5.91278545e-03,  1.39105076e+00,\n",
       "        -2.44882456e-01, -7.13927988e-01, -5.33886912e-01,\n",
       "        -6.01886168e-01,  2.94218839e-01,  2.00140695e-01,\n",
       "         3.81822270e-01,  7.56109764e-01, -9.79132066e-02,\n",
       "         2.08308522e-01,  2.53279974e-01, -1.18703431e+00,\n",
       "        -2.05113250e-01,  7.28546372e-01,  3.30239991e-01,\n",
       "         7.93643714e-02, -1.04633514e-01,  3.69589838e-01,\n",
       "        -4.13262213e-02,  9.90929669e-01,  4.76957145e-01,\n",
       "         1.18382991e-01, -3.24634496e-01,  5.38386923e-01,\n",
       "         4.47902267e-01,  7.42616588e-01,  2.55964505e-01,\n",
       "        -1.00869003e-01, -6.28647563e-02,  8.75963556e-02,\n",
       "         8.40737558e-04, -1.97110569e-01,  3.96175999e-02,\n",
       "        -8.71071217e-02],\n",
       "       [ 2.92933803e+00,  1.11457079e-01,  1.72655171e+00,\n",
       "         8.46608993e-02,  4.88337531e-01, -7.44140596e-01,\n",
       "         6.14818358e-01,  2.16425105e+00,  1.70492924e+00,\n",
       "         1.08689436e+00,  2.28728715e-02,  5.00816245e-01,\n",
       "         1.54576330e-01,  7.94053585e-01,  1.56191017e-01,\n",
       "         1.39106870e-01,  8.07295647e-01,  1.08775220e+00,\n",
       "         3.07587810e-01, -2.86453112e-01,  3.06971129e-02,\n",
       "         4.66723309e-01,  2.17308169e+00, -1.37215395e-01,\n",
       "        -1.68111989e-01,  3.20460521e-01,  7.13816086e-01,\n",
       "         1.36672918e+00, -6.30762483e-02,  5.15559592e-01,\n",
       "         1.06201867e+00,  9.87909761e-01,  6.00599971e-01,\n",
       "         3.77549409e-01, -2.30454648e-01,  2.71256986e-01,\n",
       "         2.47176443e-01,  3.42039365e-01,  2.43962601e-01,\n",
       "         2.61481570e-01,  3.66505246e-01,  2.89400693e-01,\n",
       "         2.17302366e-01,  6.28821611e-01,  3.46377623e-01,\n",
       "         6.52079539e-01,  7.33448712e-01,  8.58275622e-03,\n",
       "         2.92777062e-01,  6.85746546e-01, -2.12687013e-01,\n",
       "         4.01883735e-01,  4.50242381e-01,  5.52828881e-01,\n",
       "         4.69576474e-01,  2.99620092e-01,  2.99373449e-01,\n",
       "         5.73643602e-01,  7.28159891e-01,  8.10439804e-01,\n",
       "         5.10934711e-01,  1.33776907e+00, -9.23785398e-02,\n",
       "         1.26471168e+00,  1.96484346e-01,  3.11196333e-01,\n",
       "         3.02693655e+00,  1.18487894e+00,  1.64532971e+00,\n",
       "         3.69441713e-01,  8.18952821e-01,  1.13162199e-01,\n",
       "         2.60690927e-01,  1.09460931e-01,  3.42551198e-01,\n",
       "         4.06082999e-01,  1.05707978e-01, -1.01037093e-01,\n",
       "         1.14782880e-01,  3.12805019e-01, -9.65651694e-02,\n",
       "         2.00626990e-01,  7.50613390e-01, -2.19298806e-01,\n",
       "        -2.31702843e-01,  1.30600233e+00,  8.40094227e-01,\n",
       "         4.08435399e-01, -5.17776716e-02,  4.78186667e-01,\n",
       "         1.25507641e-02,  1.10785932e+00, -6.69837845e-02,\n",
       "        -3.42042881e-01,  1.32562126e+00, -1.12672570e-02,\n",
       "         4.44637800e-01,  9.46215753e-01,  2.04287850e-01,\n",
       "         9.03289763e-01],\n",
       "       [ 6.77397183e+00,  2.72260364e+00,  2.84161704e-01,\n",
       "         2.27656549e+00,  8.93334819e-01, -2.61515936e-01,\n",
       "        -1.54680642e-01,  9.69661429e-01, -1.70780905e+00,\n",
       "         4.97328799e+00,  7.62364793e-01,  2.17954403e-01,\n",
       "         1.93928737e-01,  6.69357503e-01, -6.37514451e-01,\n",
       "         3.02621926e-01,  1.98501729e+00,  3.77945056e-01,\n",
       "         8.67415527e-01, -1.75490673e-01, -1.38804349e-01,\n",
       "        -1.16900966e-01,  5.13522488e-01,  1.35289890e-01,\n",
       "        -2.07973121e-02,  6.72148949e-01, -5.77364687e-01,\n",
       "        -1.21144939e-01, -4.35740104e-02, -4.60314144e-02,\n",
       "        -6.28808668e-02,  6.82652397e-01, -2.87243376e-01,\n",
       "        -1.58330790e-01, -5.30814878e-01,  1.14746031e+00,\n",
       "         2.90718316e-01,  1.27177080e+00, -7.60005035e-02,\n",
       "         6.33756915e-01,  2.12886990e-01,  4.62715410e-01,\n",
       "         8.00404378e-01,  4.54931265e-01,  1.18998489e+00,\n",
       "         2.20988545e-01,  9.71118921e-01,  7.79960312e-01,\n",
       "         1.26366371e-01,  1.09959341e-01,  3.68580835e+00,\n",
       "        -4.46116768e-01,  2.44868857e-01,  1.09702734e+00,\n",
       "         4.10413948e-01,  7.10908404e-01, -1.72824030e-01,\n",
       "        -4.49041771e-01,  1.70818481e+00,  1.35946042e+00,\n",
       "         2.81062640e-01, -9.97776172e-01, -5.55120723e-01,\n",
       "         3.91206987e-01, -2.13306273e-01,  9.58629793e-01,\n",
       "         8.33772165e-01,  2.31849624e-01,  1.28238156e+00,\n",
       "         2.16980885e+00, -2.27947777e-01,  3.70034110e-01,\n",
       "         2.26186520e-02, -3.60971929e-01,  2.73970649e+00,\n",
       "         6.89027981e-01, -2.75561077e-01, -1.03230409e-02,\n",
       "         1.87212609e-01, -1.04758791e+00,  9.41908871e-01,\n",
       "         1.62519214e+00,  1.15651236e-01,  3.75524350e-01,\n",
       "         1.65435832e-01,  1.66786821e+00,  1.01794168e+00,\n",
       "         1.72213242e-01,  2.37945566e-01,  3.54300005e+00,\n",
       "         1.16671986e-01,  3.14578752e-01,  9.95914450e-01,\n",
       "         4.35974107e-01, -2.05911958e-02,  5.74347188e-01,\n",
       "         6.24601305e-01,  5.23711426e-02,  8.01855406e-01,\n",
       "         6.78005422e-01],\n",
       "       [ 2.81571814e-01,  7.78435235e-01,  2.93646652e+00,\n",
       "         3.83798560e+00,  2.37496014e+00, -2.79695973e-01,\n",
       "         3.79937921e+00,  3.08001566e+00,  1.86949117e+00,\n",
       "         6.88034731e-01,  1.33965512e-01,  3.02949259e-01,\n",
       "         7.22116319e-01, -2.61274220e-01,  5.93153739e-01,\n",
       "         2.56082937e-01, -2.59310785e-01,  1.88695125e-01,\n",
       "        -3.25337314e-01, -3.41423599e-01,  7.45268221e-01,\n",
       "        -1.34863580e-01,  6.54683919e-01, -1.52006524e-01,\n",
       "         1.59480176e-02, -2.90246371e-01,  8.21676768e-01,\n",
       "         3.93908056e-01, -2.44170408e-01,  2.71385248e-01,\n",
       "         2.17949318e-01,  3.40864312e-01,  2.67367892e-02,\n",
       "        -1.41341122e-01,  3.81195717e-01,  6.46118565e-02,\n",
       "        -1.19954204e-01,  1.74317575e-01,  1.80242877e-01,\n",
       "         2.40698465e-01, -3.92850042e-01,  4.59266277e-01,\n",
       "         2.61395098e-01, -1.64910076e-01, -1.19297620e-01,\n",
       "         4.96541139e-01, -1.93389996e-01,  4.76338851e-02,\n",
       "         6.10763120e-02,  6.56220726e-01, -6.72632039e-01,\n",
       "        -1.34044267e-01,  2.65485017e-01,  1.00776366e+00,\n",
       "         4.26817704e-01,  6.67403467e-01,  2.59658716e-01,\n",
       "         9.11183404e-01,  7.60909432e-01, -3.94239200e-01,\n",
       "         3.13690018e-01,  4.45124143e-01,  1.02431268e+00,\n",
       "         7.45493671e-03,  9.85409906e-01, -1.11906370e-01,\n",
       "        -3.67326459e-01,  5.12027576e-01,  5.56662014e-01,\n",
       "         1.06105871e-01, -3.07640600e-01,  5.55779466e-01,\n",
       "         1.36466693e+00, -6.11274471e-01,  2.95631158e-01,\n",
       "        -2.06604045e-01,  9.65497646e-01,  2.60191427e-01,\n",
       "         2.74282175e-01,  9.23686734e-01, -6.35711123e-01,\n",
       "         4.12450453e-01,  2.15069645e-01,  2.50089641e-02,\n",
       "         5.76330571e-01,  8.24433233e-02, -1.48486103e-01,\n",
       "         2.81019899e-01, -2.01801285e-01, -1.32950366e+00,\n",
       "         4.34372462e-01,  8.39718081e-01,  6.26332854e-01,\n",
       "         6.02270265e-01, -1.10236627e-01,  1.68353304e-01,\n",
       "         4.62112561e-01,  3.68242176e-01,  5.85950737e-01,\n",
       "        -2.20089270e-01],\n",
       "       [ 1.11195148e-01,  5.28877044e-01,  5.03056174e+00,\n",
       "         1.42592335e+00,  3.54956674e+00,  1.32424951e+00,\n",
       "         4.13647794e-01,  1.30056913e+00, -4.33502914e-01,\n",
       "        -6.06523012e-01,  1.88408178e-01,  9.76671094e-02,\n",
       "         7.06940964e-01,  5.25250887e-01, -2.87262011e-01,\n",
       "         3.67029768e-01, -7.07244059e-02, -4.39670683e-01,\n",
       "        -2.28584590e-02,  6.14816662e-01,  2.79656490e-01,\n",
       "         8.58107682e-01,  5.67370120e-01,  5.68464979e-01,\n",
       "         1.82222377e-01,  2.50797066e-01,  1.91606537e-01,\n",
       "         4.63644638e-01,  1.41954965e-01, -1.57606197e-01,\n",
       "         6.64281953e-01, -6.14346796e-02,  1.85344571e-01,\n",
       "         2.91033889e-01,  7.74778565e-01,  3.17748980e-01,\n",
       "         2.44354142e-01,  6.15624534e-01,  2.14802310e-01,\n",
       "         4.28427382e-01,  8.77297521e-02,  3.86499739e-01,\n",
       "         3.29788213e-01,  3.21222914e-01, -1.12555370e-01,\n",
       "         4.81761854e-01,  4.89802326e-01,  5.85895109e-02,\n",
       "         2.82124798e-01,  1.29850750e-01,  7.25783705e-01,\n",
       "         4.66519688e-01, -4.54975746e-01,  7.56368516e-01,\n",
       "        -1.99267000e-01,  2.04201117e+00,  2.39010559e-01,\n",
       "         8.47518571e-01,  1.08373204e+00, -3.85657701e-01,\n",
       "         1.19827166e+00,  5.52923384e-01,  7.13574632e-01,\n",
       "        -2.39545608e-02,  4.92405565e-01,  7.09083716e-01,\n",
       "        -2.25132683e-01,  5.70588296e-01,  2.08629263e-01,\n",
       "         4.16040768e-01, -4.18220027e-02,  5.29274408e-03,\n",
       "         9.15313066e-01,  1.01720479e+00,  5.61137145e-02,\n",
       "         1.50904031e-01, -1.39380930e-01,  2.93568704e-01,\n",
       "         1.48307305e-01,  4.39346518e-01, -7.84061709e-03,\n",
       "         2.62672320e-01, -2.28958641e-01, -2.34379791e-01,\n",
       "         3.52863687e-01,  1.08784973e+00, -3.50662493e-01,\n",
       "         1.00456657e-01,  3.45642986e-01, -9.45472622e-01,\n",
       "         1.93230349e-01,  1.68584325e-02,  5.89303107e-01,\n",
       "         3.08483891e-01, -2.60554574e-02,  1.92409239e-02,\n",
       "        -5.96336193e-01,  1.21377541e-01,  5.73428511e-01,\n",
       "        -1.12520952e-01]])"
      ]
     },
     "execution_count": 39,
     "metadata": {},
     "output_type": "execute_result"
    }
   ],
   "source": [
    "als(ratings_arr2, users_arr2, items_arr2, reps=50)[:5, :]"
   ]
  },
  {
   "cell_type": "markdown",
   "metadata": {},
   "source": [
    "#### ALS in `pyspark`\n",
    "\n",
    "We'll talk about Big Data and Spark soon, but I'll just note here that Spark has a recommendation submodule inside its ml (machine learning) module. Source code for `pyspark`'s version [here](https://spark.apache.org/docs/latest/api/python/_modules/pyspark/ml/recommendation.html)."
   ]
  }
 ],
 "metadata": {
  "kernelspec": {
   "display_name": "Python (learn-env)",
   "language": "python",
   "name": "learn-env"
  },
  "language_info": {
   "codemirror_mode": {
    "name": "ipython",
    "version": 3
   },
   "file_extension": ".py",
   "mimetype": "text/x-python",
   "name": "python",
   "nbconvert_exporter": "python",
   "pygments_lexer": "ipython3",
   "version": "3.8.5"
  }
 },
 "nbformat": 4,
 "nbformat_minor": 2
}
